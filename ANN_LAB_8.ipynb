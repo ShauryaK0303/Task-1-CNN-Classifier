{
  "nbformat": 4,
  "nbformat_minor": 0,
  "metadata": {
    "colab": {
      "provenance": [],
      "include_colab_link": true
    },
    "kernelspec": {
      "name": "python3",
      "display_name": "Python 3"
    },
    "language_info": {
      "name": "python"
    }
  },
  "cells": [
    {
      "cell_type": "markdown",
      "metadata": {
        "id": "view-in-github",
        "colab_type": "text"
      },
      "source": [
        "<a href=\"https://colab.research.google.com/github/ShauryaK0303/Task_3_CNN_Classifier/blob/ann/ANN_LAB_8.ipynb\" target=\"_parent\"><img src=\"https://colab.research.google.com/assets/colab-badge.svg\" alt=\"Open In Colab\"/></a>"
      ]
    },
    {
      "cell_type": "markdown",
      "source": [
        "# **QUES8: Write a program to build an Artificial Neural Network by implementing the Backpropagation algorithm and test the same using appropriate data sets.**"
      ],
      "metadata": {
        "id": "glvtk20xQ2-W"
      }
    },
    {
      "cell_type": "code",
      "execution_count": null,
      "metadata": {
        "colab": {
          "base_uri": "https://localhost:8080/"
        },
        "id": "wUtIXeuBMxW0",
        "outputId": "fb38a5e8-3863-49f0-96d0-13f8c0ef553e"
      },
      "outputs": [
        {
          "output_type": "stream",
          "name": "stdout",
          "text": [
            "ANIRUDH SHUKLA 00619011921 AIDS B1 A\n"
          ]
        }
      ],
      "source": [
        "print(\"ANIRUDH SHUKLA 00619011921 AIDS B1 A\")"
      ]
    },
    {
      "cell_type": "code",
      "source": [
        "import numpy as np\n",
        "import matplotlib.pyplot as plt"
      ],
      "metadata": {
        "id": "-w9mlUhnQ1sH"
      },
      "execution_count": null,
      "outputs": []
    },
    {
      "cell_type": "code",
      "source": [
        "def sigmoid(x):\n",
        "    return 1 / (1 + np.exp(-x))"
      ],
      "metadata": {
        "id": "6Y55ftX_YjXt"
      },
      "execution_count": null,
      "outputs": []
    },
    {
      "cell_type": "code",
      "source": [
        "def forward_propagation(input, w, b):\n",
        "    I3 = input[0] * w[0] + input[1] * w[1] + b[0]\n",
        "    O3 = sigmoid(I3)\n",
        "    I4 = input[0] * w[2] + input[1] * w[3] + b[1]\n",
        "    O4 = sigmoid(I4)\n",
        "    I5 = O3 * w[4] + O4 * w[5] + b[2]\n",
        "    O5 = sigmoid(I5)\n",
        "    return O3, O4, O5"
      ],
      "metadata": {
        "id": "tkbv2Cy_Yo8c"
      },
      "execution_count": null,
      "outputs": []
    },
    {
      "cell_type": "code",
      "source": [
        "def backward_propagation(output, O3, O4, O5, w, b):\n",
        "    Error = output - O5\n",
        "    dE5 = O5 * (1 - O5) * Error\n",
        "    dE3 = O3 * (1 - O3) * dE5 * w[4]\n",
        "    dE4 = O4 * (1 - O4) * dE5 * w[5]\n",
        "    return dE3, dE4, dE5"
      ],
      "metadata": {
        "id": "pLutAZpJYsj6"
      },
      "execution_count": null,
      "outputs": []
    },
    {
      "cell_type": "code",
      "source": [
        "def Standrad_BPA_update_weights_and_biases(input, w, b, dE3, dE4, dE5, O3, O4, O5, learning_rate):\n",
        "    w[0] += learning_rate * dE3 * input[0]\n",
        "    w[1] += learning_rate * dE3 * input[1]\n",
        "    w[2] += learning_rate * dE4 * input[0]\n",
        "    w[3] += learning_rate * dE4 * input[1]\n",
        "    w[4] += learning_rate * dE5 * O3\n",
        "    w[5] += learning_rate * dE5 * O4\n",
        "    b[0] += learning_rate * dE3\n",
        "    b[1] += learning_rate * dE4\n",
        "    b[2] += learning_rate * dE5\n",
        "    return w, b"
      ],
      "metadata": {
        "id": "EZYPUHZGY06e"
      },
      "execution_count": null,
      "outputs": []
    },
    {
      "cell_type": "code",
      "source": [
        "# Initialize weights and biases\n",
        "w = [0.5, 0.1, 0.62, 0.2, -0.2, 0.3]\n",
        "b = [0.4, -0.1, 1.83]"
      ],
      "metadata": {
        "id": "MvqwJ4UxZe4H"
      },
      "execution_count": null,
      "outputs": []
    },
    {
      "cell_type": "code",
      "source": [
        "# Inputs and corresponding outputs\n",
        "input = [0.1 , 0.3]\n",
        "output = 0.03"
      ],
      "metadata": {
        "id": "19c1ycFuY441"
      },
      "execution_count": null,
      "outputs": []
    },
    {
      "cell_type": "code",
      "source": [
        "# Training parameters\n",
        "learning_rate = 0.1\n",
        "epochs = 100\n",
        "error = float('inf')  # Initialize error with infinity\n",
        "num_epochs_done = 0  # Initialize the count of epochs\n",
        "# Initialize error storage\n",
        "errors = []"
      ],
      "metadata": {
        "id": "qPyGYtHZY9V1"
      },
      "execution_count": null,
      "outputs": []
    },
    {
      "cell_type": "code",
      "source": [
        "for epoch in range(epochs):\n",
        "    # Forward propagation\n",
        "    O3, O4, O5 = forward_propagation(input, w, b)\n",
        "\n",
        "    # Backward propagation\n",
        "    dE3, dE4, dE5 = backward_propagation(output, O3, O4, O5, w, b)\n",
        "\n",
        "    # Update weights and biases\n",
        "    w, b = Standrad_BPA_update_weights_and_biases(input, w, b, dE3, dE4, dE5, O3, O4, O5, learning_rate)\n",
        "\n",
        "    # Calculate error and store it\n",
        "    error = abs(output - O5)\n",
        "    errors.append(error)\n",
        "    num_epochs_done = num_epochs_done + 1\n",
        "\n",
        "    # Print epoch and error (optional)\n",
        "    print(f\"Epoch {epoch + 1}: Error = {error}\")\n",
        "\n",
        "# Stopping condition based on total epochs\n",
        "print(f\"Training completed after {epochs} epochs.\")"
      ],
      "metadata": {
        "colab": {
          "base_uri": "https://localhost:8080/"
        },
        "id": "a0ZkCwFIZBHl",
        "outputId": "38db09f7-d54f-400a-ed53-5bd507d90beb"
      },
      "execution_count": null,
      "outputs": [
        {
          "output_type": "stream",
          "name": "stdout",
          "text": [
            "Epoch 1: Error = 0.8350753756786712\n",
            "Epoch 2: Error = 0.8331920632074761\n",
            "Epoch 3: Error = 0.8312686520995617\n",
            "Epoch 4: Error = 0.8293041874393225\n",
            "Epoch 5: Error = 0.8272976979061795\n",
            "Epoch 6: Error = 0.8252481963183572\n",
            "Epoch 7: Error = 0.8231546802752849\n",
            "Epoch 8: Error = 0.821016132906668\n",
            "Epoch 9: Error = 0.8188315237366345\n",
            "Epoch 10: Error = 0.8165998096716978\n",
            "Epoch 11: Error = 0.8143199361215931\n",
            "Epoch 12: Error = 0.8119908382623163\n",
            "Epoch 13: Error = 0.8096114424509274\n",
            "Epoch 14: Error = 0.8071806678018637\n",
            "Epoch 15: Error = 0.8046974279346091\n",
            "Epoch 16: Error = 0.802160632902611\n",
            "Epoch 17: Error = 0.7995691913132655\n",
            "Epoch 18: Error = 0.7969220126486352\n",
            "Epoch 19: Error = 0.7942180097962666\n",
            "Epoch 20: Error = 0.791456101799052\n",
            "Epoch 21: Error = 0.7886352168324908\n",
            "Epoch 22: Error = 0.7857542954169418\n",
            "Epoch 23: Error = 0.7828122938715073\n",
            "Epoch 24: Error = 0.7798081880150181\n",
            "Epoch 25: Error = 0.7767409771181853\n",
            "Epoch 26: Error = 0.773609688109344\n",
            "Epoch 27: Error = 0.7704133800342932\n",
            "Epoch 28: Error = 0.7671511487685504\n",
            "Epoch 29: Error = 0.7638221319778566\n",
            "Epoch 30: Error = 0.7604255143199844\n",
            "Epoch 31: Error = 0.7569605328778323\n",
            "Epoch 32: Error = 0.7534264828104011\n",
            "Epoch 33: Error = 0.7498227232045892\n",
            "Epoch 34: Error = 0.7461486831067989\n",
            "Epoch 35: Error = 0.7424038677091624\n",
            "Epoch 36: Error = 0.7385878646607886\n",
            "Epoch 37: Error = 0.7347003504698597\n",
            "Epoch 38: Error = 0.7307410969577216\n",
            "Epoch 39: Error = 0.726709977721367\n",
            "Epoch 40: Error = 0.7226069745560086\n",
            "Epoch 41: Error = 0.7184321837848424\n",
            "Epoch 42: Error = 0.7141858224387306\n",
            "Epoch 43: Error = 0.709868234224491\n",
            "Epoch 44: Error = 0.7054798952168748\n",
            "Epoch 45: Error = 0.7010214192062921\n",
            "Epoch 46: Error = 0.6964935626320085\n",
            "Epoch 47: Error = 0.6918972290290306\n",
            "Epoch 48: Error = 0.687233472916349\n",
            "Epoch 49: Error = 0.6825035030547058\n",
            "Epoch 50: Error = 0.6777086850037468\n",
            "Epoch 51: Error = 0.6728505429113469\n",
            "Epoch 52: Error = 0.6679307604721623\n",
            "Epoch 53: Error = 0.6629511809980785\n",
            "Epoch 54: Error = 0.6579138065502118\n",
            "Epoch 55: Error = 0.6528207960904452\n",
            "Epoch 56: Error = 0.6476744626200759\n",
            "Epoch 57: Error = 0.6424772692839215\n",
            "Epoch 58: Error = 0.6372318244300184\n",
            "Epoch 59: Error = 0.6319408756276838\n",
            "Epoch 60: Error = 0.6266073026599654\n",
            "Epoch 61: Error = 0.6212341095201396\n",
            "Epoch 62: Error = 0.6158244154556473\n",
            "Epoch 63: Error = 0.6103814451164048\n",
            "Epoch 64: Error = 0.6049085178774696\n",
            "Epoch 65: Error = 0.5994090364183012\n",
            "Epoch 66: Error = 0.5938864746520282\n",
            "Epoch 67: Error = 0.5883443651079459\n",
            "Epoch 68: Error = 0.5827862858786942\n",
            "Epoch 69: Error = 0.5772158472499805\n",
            "Epoch 70: Error = 0.571636678135184\n",
            "Epoch 71: Error = 0.56605241243958\n",
            "Epoch 72: Error = 0.5604666754792158\n",
            "Epoch 73: Error = 0.5548830705776632\n",
            "Epoch 74: Error = 0.5493051659600192\n",
            "Epoch 75: Error = 0.5437364820577458\n",
            "Epoch 76: Error = 0.5381804793304098\n",
            "Epoch 77: Error = 0.5326405467012849\n",
            "Epoch 78: Error = 0.5271199906933787\n",
            "Epoch 79: Error = 0.5216220253409904\n",
            "Epoch 80: Error = 0.5161497629396932\n",
            "Epoch 81: Error = 0.51070620568493\n",
            "Epoch 82: Error = 0.5052942382365282\n",
            "Epoch 83: Error = 0.4999166212336168\n",
            "Epoch 84: Error = 0.49457598577195183\n",
            "Epoch 85: Error = 0.489274828843726\n",
            "Epoch 86: Error = 0.4840155097287684\n",
            "Epoch 87: Error = 0.47880024731578685\n",
            "Epoch 88: Error = 0.47363111832309657\n",
            "Epoch 89: Error = 0.4685100563802074\n",
            "Epoch 90: Error = 0.46343885192476586\n",
            "Epoch 91: Error = 0.4584191528636872\n",
            "Epoch 92: Error = 0.45345246594286037\n",
            "Epoch 93: Error = 0.4485401587665373\n",
            "Epoch 94: Error = 0.4436834624053617\n",
            "Epoch 95: Error = 0.43888347453088417\n",
            "Epoch 96: Error = 0.43414116301425276\n",
            "Epoch 97: Error = 0.4294573699274755\n",
            "Epoch 98: Error = 0.42483281588709454\n",
            "Epoch 99: Error = 0.4202681046822109\n",
            "Epoch 100: Error = 0.41576372813141926\n",
            "Training completed after 100 epochs.\n"
          ]
        }
      ]
    },
    {
      "cell_type": "code",
      "source": [
        "# Visualize training process (errors vs epochs)\n",
        "plt.plot(range(1, len(errors) + 1), errors)  # Adjust range based on error storage\n",
        "plt.xlabel('Epochs')\n",
        "plt.ylabel('Error')\n",
        "plt.title('Loss (Error) over Training Epochs Standrad_BPA')\n",
        "plt.grid(True)\n",
        "plt.show()"
      ],
      "metadata": {
        "colab": {
          "base_uri": "https://localhost:8080/",
          "height": 472
        },
        "id": "peqeAEbWbYc7",
        "outputId": "3f707bfb-73be-4ba9-be5e-953f8b7eb0ea"
      },
      "execution_count": null,
      "outputs": [
        {
          "output_type": "display_data",
          "data": {
            "text/plain": [
              "<Figure size 640x480 with 1 Axes>"
            ],
            "image/png": "[encoded data removed]"
          },
          "metadata": {}
        }
      ]
    },
    {
      "cell_type": "code",
      "source": [
        "print(\"Total epochs done:\", num_epochs_done)\n",
        "print(\"Updated Weights:\")\n",
        "print(w)\n",
        "print(\"Updated Biases:\")\n",
        "print(b)"
      ],
      "metadata": {
        "colab": {
          "base_uri": "https://localhost:8080/"
        },
        "id": "b765UOmMaxTT",
        "outputId": "e6ed339e-90b2-4929-f1d8-f035e266143c"
      },
      "execution_count": null,
      "outputs": [
        {
          "output_type": "stream",
          "name": "stdout",
          "text": [
            "Total epochs done: 100\n",
            "Updated Weights:\n",
            "[0.5168660152734551, 0.15059804582036468, 0.6202913186200999, 0.20087395586029824, -0.9909495783414495, -0.3251303480737262]\n",
            "Updated Biases:\n",
            "[0.5686601527345485, -0.09708681379900573, 0.5833302799722203]\n"
          ]
        }
      ]
    },
    {
      "cell_type": "markdown",
      "source": [
        "**Momentum BackPropagationAlgorithm**"
      ],
      "metadata": {
        "id": "8qqmgU1xGCGU"
      }
    },
    {
      "cell_type": "code",
      "source": [
        "def momentum_BPA_update_weights_and_biases(input, w, b, dE3, dE4, dE5, O3, O4, O5, learning_rate, momentum):\n",
        "    # Initialize velocity terms (can be zeros for the first iteration)\n",
        "    velocity_w = [0] * len(w)\n",
        "    velocity_b = [0] * len(b)\n",
        "\n",
        "    # Update velocities\n",
        "    velocity_w[0] = momentum * velocity_w[0] - learning_rate * dE3 * input[0]\n",
        "    velocity_w[1] = momentum * velocity_w[1] - learning_rate * dE3 * input[1]\n",
        "    velocity_w[2] = momentum * velocity_w[2] - learning_rate * dE4 * input[0]\n",
        "    velocity_w[3] = momentum * velocity_w[3] - learning_rate * dE4 * input[1]\n",
        "    velocity_w[4] = momentum * velocity_w[4] - learning_rate * dE5 * O3\n",
        "    velocity_w[5] = momentum * velocity_w[5] - learning_rate * dE5 * O4\n",
        "\n",
        "    velocity_b[0] = momentum * velocity_b[0] - learning_rate * dE3\n",
        "    velocity_b[1] = momentum * velocity_b[1] - learning_rate * dE4\n",
        "    velocity_b[2] = momentum * velocity_b[2] - learning_rate * dE5\n",
        "\n",
        "    # Update weights and biases\n",
        "    w = np.add(w, velocity_w)\n",
        "    b = np.add(b, velocity_b)\n",
        "\n",
        "    return w, b"
      ],
      "metadata": {
        "id": "bn_J23pBDz1q"
      },
      "execution_count": null,
      "outputs": []
    },
    {
      "cell_type": "code",
      "source": [
        "# Initialize weights and biases\n",
        "w = [0.5, 0.1, 0.62, 0.2, -0.2, 0.3]\n",
        "b = [0.4, -0.1, 1.83]"
      ],
      "metadata": {
        "id": "-8Z2cr4xE6yj"
      },
      "execution_count": null,
      "outputs": []
    },
    {
      "cell_type": "code",
      "source": [
        "# Inputs and corresponding outputs\n",
        "input = [0.1, 0.3]\n",
        "output = 0.03"
      ],
      "metadata": {
        "id": "iQQvNSzdE-5z"
      },
      "execution_count": null,
      "outputs": []
    },
    {
      "cell_type": "code",
      "source": [
        "# Training parameters\n",
        "learning_rate = 0.1\n",
        "epochs = 100\n",
        "momentum = 0.9\n",
        "error = float('inf')  # Initialize error with infinity\n",
        "num_epochs_done = 0  # Initialize the count of epochs\n",
        "# Initialize error storage\n",
        "errors = []"
      ],
      "metadata": {
        "id": "zVLbbkz2FBd_"
      },
      "execution_count": null,
      "outputs": []
    },
    {
      "cell_type": "code",
      "source": [
        "for epoch in range(epochs):\n",
        "    # Forward propagation\n",
        "    O3, O4, O5 = forward_propagation(input, w, b)\n",
        "\n",
        "    # Backward propagation\n",
        "    dE3, dE4, dE5 = backward_propagation(output, O3, O4, O5, w, b)\n",
        "\n",
        "    # Update weights and biases\n",
        "    w, b = momentum_BPA_update_weights_and_biases(input, w, b, dE3, dE4, dE5, O3, O4, O5, learning_rate, momentum)\n",
        "\n",
        "    # Calculate error and store it\n",
        "    error = abs(output - O5)\n",
        "    errors.append(error)\n",
        "    num_epochs_done = num_epochs_done + 1\n",
        "\n",
        "    # Print epoch and error (optional)\n",
        "    print(f\"Epoch {epoch + 1}: Error = {error}\")\n",
        "\n",
        "# Stopping condition based on total epochs\n",
        "print(f\"Training completed after {epochs} epochs.\")"
      ],
      "metadata": {
        "colab": {
          "base_uri": "https://localhost:8080/"
        },
        "id": "59pIfvuNFE00",
        "outputId": "49457b59-659c-41b4-d109-487c5be7771e"
      },
      "execution_count": null,
      "outputs": [
        {
          "output_type": "stream",
          "name": "stdout",
          "text": [
            "Epoch 1: Error = 0.8350753756786712\n",
            "Epoch 2: Error = 0.8369368214464763\n",
            "Epoch 3: Error = 0.8387592910106838\n",
            "Epoch 4: Error = 0.8405437102450248\n",
            "Epoch 5: Error = 0.8422909871132781\n",
            "Epoch 6: Error = 0.8440020114542689\n",
            "Epoch 7: Error = 0.8456776548321973\n",
            "Epoch 8: Error = 0.8473187704463235\n",
            "Epoch 9: Error = 0.848926193094421\n",
            "Epoch 10: Error = 0.8505007391847684\n",
            "Epoch 11: Error = 0.8520432067918169\n",
            "Epoch 12: Error = 0.8535543757509936\n",
            "Epoch 13: Error = 0.8550350077884467\n",
            "Epoch 14: Error = 0.856485846681833\n",
            "Epoch 15: Error = 0.8579076184485533\n",
            "Epoch 16: Error = 0.8593010315581145\n",
            "Epoch 17: Error = 0.860666777165569\n",
            "Epoch 18: Error = 0.8620055293632205\n",
            "Epoch 19: Error = 0.8633179454480302\n",
            "Epoch 20: Error = 0.8646046662023638\n",
            "Epoch 21: Error = 0.8658663161859387\n",
            "Epoch 22: Error = 0.8671035040370071\n",
            "Epoch 23: Error = 0.868316822781001\n",
            "Epoch 24: Error = 0.8695068501450224\n",
            "Epoch 25: Error = 0.8706741488767185\n",
            "Epoch 26: Error = 0.8718192670662254\n",
            "Epoch 27: Error = 0.8729427384699904\n",
            "Epoch 28: Error = 0.8740450828354095\n",
            "Epoch 29: Error = 0.8751268062253265\n",
            "Epoch 30: Error = 0.8761884013415404\n",
            "Epoch 31: Error = 0.8772303478465688\n",
            "Epoch 32: Error = 0.8782531126829933\n",
            "Epoch 33: Error = 0.8792571503898005\n",
            "Epoch 34: Error = 0.8802429034152008\n",
            "Epoch 35: Error = 0.8812108024254725\n",
            "Epoch 36: Error = 0.8821612666094426\n",
            "Epoch 37: Error = 0.8830947039782694\n",
            "Epoch 38: Error = 0.8840115116602407\n",
            "Epoch 39: Error = 0.8849120761903502\n",
            "Epoch 40: Error = 0.8857967737944511\n",
            "Epoch 41: Error = 0.8866659706678302\n",
            "Epoch 42: Error = 0.8875200232480707\n",
            "Epoch 43: Error = 0.8883592784821099\n",
            "Epoch 44: Error = 0.8891840740874212\n",
            "Epoch 45: Error = 0.8899947388072736\n",
            "Epoch 46: Error = 0.8907915926600487\n",
            "Epoch 47: Error = 0.891574947182607\n",
            "Epoch 48: Error = 0.8923451056677184\n",
            "Epoch 49: Error = 0.8931023633955878\n",
            "Epoch 50: Error = 0.8938470078595119\n",
            "Epoch 51: Error = 0.8945793189857282\n",
            "Epoch 52: Error = 0.895299569347514\n",
            "Epoch 53: Error = 0.896008024373613\n",
            "Epoch 54: Error = 0.8967049425510679\n",
            "Epoch 55: Error = 0.8973905756225478\n",
            "Epoch 56: Error = 0.8980651687782631\n",
            "Epoch 57: Error = 0.8987289608425677\n",
            "Epoch 58: Error = 0.8993821844553443\n",
            "Epoch 59: Error = 0.9000250662482882\n",
            "Epoch 60: Error = 0.9006578270161861\n",
            "Epoch 61: Error = 0.901280681883307\n",
            "Epoch 62: Error = 0.9018938404650116\n",
            "Epoch 63: Error = 0.9024975070246953\n",
            "Epoch 64: Error = 0.9030918806261723\n",
            "Epoch 65: Error = 0.9036771552816171\n",
            "Epoch 66: Error = 0.9042535200951738\n",
            "Epoch 67: Error = 0.9048211594023424\n",
            "Epoch 68: Error = 0.9053802529052569\n",
            "Epoch 69: Error = 0.9059309758039585\n",
            "Epoch 70: Error = 0.9064734989237786\n",
            "Epoch 71: Error = 0.9070079888389323\n",
            "Epoch 72: Error = 0.9075346079924328\n",
            "Epoch 73: Error = 0.9080535148124246\n",
            "Epoch 74: Error = 0.9085648638250412\n",
            "Epoch 75: Error = 0.9090688057638862\n",
            "Epoch 76: Error = 0.9095654876762324\n",
            "Epoch 77: Error = 0.9100550530260391\n",
            "Epoch 78: Error = 0.9105376417938779\n",
            "Epoch 79: Error = 0.911013390573859\n",
            "Epoch 80: Error = 0.911482432667648\n",
            "Epoch 81: Error = 0.9119448981756602\n",
            "Epoch 82: Error = 0.9124009140855165\n",
            "Epoch 83: Error = 0.9128506043578447\n",
            "Epoch 84: Error = 0.9132940900095063\n",
            "Epoch 85: Error = 0.9137314891943276\n",
            "Epoch 86: Error = 0.9141629172814109\n",
            "Epoch 87: Error = 0.9145884869311013\n",
            "Epoch 88: Error = 0.9150083081686806\n",
            "Epoch 89: Error = 0.9154224884558576\n",
            "Epoch 90: Error = 0.915831132760125\n",
            "Epoch 91: Error = 0.9162343436220469\n",
            "Epoch 92: Error = 0.9166322212205443\n",
            "Epoch 93: Error = 0.9170248634362368\n",
            "Epoch 94: Error = 0.917412365912904\n",
            "Epoch 95: Error = 0.9177948221171262\n",
            "Epoch 96: Error = 0.9181723233961563\n",
            "Epoch 97: Error = 0.9185449590340852\n",
            "Epoch 98: Error = 0.9189128163063477\n",
            "Epoch 99: Error = 0.9192759805326256\n",
            "Epoch 100: Error = 0.9196345351281938\n",
            "Training completed after 100 epochs.\n"
          ]
        }
      ]
    },
    {
      "cell_type": "code",
      "source": [
        "# Visualize training process (errors vs epochs)\n",
        "plt.plot(range(1, len(errors) + 1), errors)  # Adjust range based on error storage\n",
        "plt.xlabel('Epochs')\n",
        "plt.ylabel('Error')\n",
        "plt.title('Loss (Error) over Training Epochs Momentum_BPA')\n",
        "plt.grid(True)\n",
        "plt.show()"
      ],
      "metadata": {
        "colab": {
          "base_uri": "https://localhost:8080/"
        },
        "id": "-StBH_G9FvBX",
        "outputId": "01e80a44-b208-4d54-ef84-3e3f6426f547"
      },
      "execution_count": null,
      "outputs": [
        {
          "output_type": "display_data",
          "data": {
            "text/plain": [
              "<Figure size 640x480 with 1 Axes>"
            ],
            "image/png": "[encoded data removed]"
          },
          "metadata": {}
        }
      ]
    },
    {
      "cell_type": "code",
      "source": [
        "print(\"Total epochs done:\", num_epochs_done)\n",
        "print(\"Updated Weights:\")\n",
        "print(w)\n",
        "print(\"Updated Biases:\")\n",
        "print(b)"
      ],
      "metadata": {
        "colab": {
          "base_uri": "https://localhost:8080/"
        },
        "id": "AQ5b9ulhFaR5",
        "outputId": "dc120b17-adeb-475d-d38f-10e1175ff9d9"
      },
      "execution_count": null,
      "outputs": [
        {
          "output_type": "stream",
          "name": "stdout",
          "text": [
            "Total epochs done: 100\n",
            "Updated Weights:\n",
            "[0.49999044 0.09997131 0.62759679 0.22279037 0.20299736 0.6364323 ]\n",
            "Updated Biases:\n",
            "[ 0.39990437 -0.02403211  2.48380529]\n"
          ]
        }
      ]
    },
    {
      "cell_type": "markdown",
      "source": [
        "# **Conclusion:**\n",
        "\n",
        "Standard Backpropagation:\n",
        "\n",
        "1. Backpropagation calculates the gradient (the direction of steepest descent in the error surface) for each weight in the network based on the current error.\n",
        "2. The weights are then updated by subtracting a small fraction of the gradient, called the learning rate, from each weight.\n",
        "3. This process is repeated for each training example and over multiple epochs (iterations through the training data).\n",
        "\n",
        "Challenges with Standard Backpropagation:\n",
        "\n",
        "1. The error surface for neural networks can be complex with gentle slopes and sharp ravines.\n",
        "2. In some cases, standard backpropagation updates can be very small, leading to slow progress, especially in shallow slopes.\n",
        "3. It can also be susceptible to oscillations, where the updates cause the weights to bounce back and forth around a minimum instead of converging smoothly.\n",
        "\n",
        "How Momentum Helps:\n",
        "\n",
        "1. Momentum introduces a velocity term that tracks the average historical updates for each weight.\n",
        "2. During each update, instead of simply using the current gradient, a fraction of the previous velocity is added to the current gradient. This acts like a moving average, smoothing out the updates and helping the network navigate through shallow slopes more efficiently.\n",
        "3. The momentum term helps to:\n",
        "  1. Accelerate convergence: By incorporating the historical updates, momentum allows the network to move faster in the desired direction.\n",
        "  2. Reduce oscillations: Smoothing out the updates can help mitigate the bouncing effect and lead to a more stable convergence process.\n",
        "\n",
        "Momentum is a valuable technique in backpropagation that can significantly improve the training speed and stability of neural networks, especially when dealing with complex error surfaces. However, it's important to find the right momentum coefficient for your specific problem and network architecture."
      ],
      "metadata": {
        "id": "roZOQmJqGjjG"
      }
    }
  ]
}