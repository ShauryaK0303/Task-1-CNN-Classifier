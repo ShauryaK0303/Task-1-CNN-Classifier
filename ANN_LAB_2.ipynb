{
  "nbformat": 4,
  "nbformat_minor": 0,
  "metadata": {
    "colab": {
      "provenance": [],
      "include_colab_link": true
    },
    "kernelspec": {
      "name": "python3",
      "display_name": "Python 3"
    },
    "language_info": {
      "name": "python"
    }
  },
  "cells": [
    {
      "cell_type": "markdown",
      "metadata": {
        "id": "view-in-github",
        "colab_type": "text"
      },
      "source": [
        "<a href=\"https://colab.research.google.com/github/ShauryaK0303/Task_3_CNN_Classifier/blob/ann/ANN_LAB_2.ipynb\" target=\"_parent\"><img src=\"https://colab.research.google.com/assets/colab-badge.svg\" alt=\"Open In Colab\"/></a>"
      ]
    },
    {
      "cell_type": "markdown",
      "source": [
        "# **QUES2: Write a program to perform the basic matrix operations.**"
      ],
      "metadata": {
        "id": "_UhOTf-og9ju"
      }
    },
    {
      "cell_type": "code",
      "execution_count": null,
      "metadata": {
        "colab": {
          "base_uri": "https://localhost:8080/"
        },
        "id": "Sns_2cFKgkyS",
        "outputId": "66115433-1d2a-43e3-eba3-a1652ea1f3be"
      },
      "outputs": [
        {
          "output_type": "stream",
          "name": "stdout",
          "text": [
            "ANIRUDH SHUKLA 00619011921 AIDS B1 A\n"
          ]
        }
      ],
      "source": [
        "print(\"ANIRUDH SHUKLA 00619011921 AIDS B1 A\")"
      ]
    },
    {
      "cell_type": "code",
      "source": [
        "class Matrix:\n",
        "    def __init__(self, rows, cols):\n",
        "        self.rows = rows\n",
        "        self.cols = cols\n",
        "        self.data = [[0 for _ in range(cols)] for _ in range(rows)]\n",
        "\n",
        "    def __str__(self):\n",
        "        matrix_str = \"\"\n",
        "        for row in self.data:\n",
        "            matrix_str += \" \".join(map(str, row)) + \"\\n\"\n",
        "        return matrix_str\n",
        "\n",
        "    def __add__(self, other):\n",
        "        if self.rows != other.rows or self.cols != other.cols:\n",
        "            raise ValueError(\"Matrices must have the same dimensions for addition\")\n",
        "        result = Matrix(self.rows, self.cols)\n",
        "        for i in range(self.rows):\n",
        "            for j in range(self.cols):\n",
        "                result.data[i][j] = self.data[i][j] + other.data[i][j]\n",
        "        return result\n",
        "\n",
        "    def __sub__(self, other):\n",
        "        if self.rows != other.rows or self.cols != other.cols:\n",
        "            raise ValueError(\"Matrices must have the same dimensions for subtraction\")\n",
        "        result = Matrix(self.rows, self.cols)\n",
        "        for i in range(self.rows):\n",
        "            for j in range(self.cols):\n",
        "                result.data[i][j] = self.data[i][j] - other.data[i][j]\n",
        "        return result\n",
        "\n",
        "    def __mul__(self, other):\n",
        "        if isinstance(other, int) or isinstance(other, float):\n",
        "            result = Matrix(self.rows, self.cols)\n",
        "            for i in range(self.rows):\n",
        "                for j in range(self.cols):\n",
        "                    result.data[i][j] = self.data[i][j] * other\n",
        "            return result\n",
        "        elif isinstance(other, Matrix):\n",
        "            if self.cols != other.rows:\n",
        "                raise ValueError(\"Number of columns in first matrix must be equal to number of rows in second matrix for multiplication\")\n",
        "            result = Matrix(self.rows, other.cols)\n",
        "            for i in range(self.rows):\n",
        "                for j in range(other.cols):\n",
        "                    for k in range(self.cols):\n",
        "                        result.data[i][j] += self.data[i][k] * other.data[k][j]\n",
        "            return result\n",
        "\n",
        "    def transpose(self):\n",
        "        transposed = Matrix(self.cols, self.rows)\n",
        "        for i in range(self.rows):\n",
        "            for j in range(self.cols):\n",
        "                transposed.data[j][i] = self.data[i][j]\n",
        "        return transposed"
      ],
      "metadata": {
        "id": "KoXVENEchHP7"
      },
      "execution_count": null,
      "outputs": []
    },
    {
      "cell_type": "code",
      "source": [
        "# Example usage:\n",
        "A = Matrix(2, 3)\n",
        "A.data = [[1, 2, 3],\n",
        "          [4, 5, 6]]\n",
        "print(\"Matrix A:\")\n",
        "print(A)\n",
        "\n",
        "B = Matrix(2, 3)\n",
        "B.data = [[7, 8, 9],\n",
        "          [10, 11, 12]]\n",
        "print(\"Matrix B:\")\n",
        "print(B)"
      ],
      "metadata": {
        "colab": {
          "base_uri": "https://localhost:8080/"
        },
        "id": "zTL2cD7lhaW-",
        "outputId": "50f2e6c1-984b-4aad-ae19-48814179f141"
      },
      "execution_count": null,
      "outputs": [
        {
          "output_type": "stream",
          "name": "stdout",
          "text": [
            "Matrix A:\n",
            "1 2 3\n",
            "4 5 6\n",
            "\n",
            "Matrix B:\n",
            "7 8 9\n",
            "10 11 12\n",
            "\n"
          ]
        }
      ]
    },
    {
      "cell_type": "code",
      "source": [
        "# Addition\n",
        "print(\"A + B:\")\n",
        "print(A + B)"
      ],
      "metadata": {
        "colab": {
          "base_uri": "https://localhost:8080/"
        },
        "id": "5FNaMqfihfwo",
        "outputId": "f8dfc437-ee37-40ae-ef9a-d80bbeff7e04"
      },
      "execution_count": null,
      "outputs": [
        {
          "output_type": "stream",
          "name": "stdout",
          "text": [
            "A + B:\n",
            "8 10 12\n",
            "14 16 18\n",
            "\n"
          ]
        }
      ]
    },
    {
      "cell_type": "code",
      "source": [
        "# Subtraction\n",
        "print(\"A - B:\")\n",
        "print(A - B)"
      ],
      "metadata": {
        "colab": {
          "base_uri": "https://localhost:8080/"
        },
        "id": "cPBD_Gwihj4D",
        "outputId": "136db7c4-89c8-4320-9bb2-ed20791f9a93"
      },
      "execution_count": null,
      "outputs": [
        {
          "output_type": "stream",
          "name": "stdout",
          "text": [
            "A - B:\n",
            "-6 -6 -6\n",
            "-6 -6 -6\n",
            "\n"
          ]
        }
      ]
    },
    {
      "cell_type": "code",
      "source": [
        "# Multiplication by scalar\n",
        "print(\"2 * A:\")\n",
        "print(A * 2)"
      ],
      "metadata": {
        "colab": {
          "base_uri": "https://localhost:8080/"
        },
        "id": "x2DoKo2Shmox",
        "outputId": "e7bc1698-bcdd-49ed-8afd-97ad713ed944"
      },
      "execution_count": null,
      "outputs": [
        {
          "output_type": "stream",
          "name": "stdout",
          "text": [
            "2 * A:\n",
            "2 4 6\n",
            "8 10 12\n",
            "\n"
          ]
        }
      ]
    },
    {
      "cell_type": "code",
      "source": [
        "# Multiplication of matrices\n",
        "C = Matrix(3, 2)\n",
        "C.data = [[1, 2],\n",
        "          [3, 4],\n",
        "          [5, 6]]\n",
        "print(\"Matrix C:\")\n",
        "print(C)\n",
        "print(\"A * C:\")\n",
        "print(A * C)"
      ],
      "metadata": {
        "colab": {
          "base_uri": "https://localhost:8080/"
        },
        "id": "Fnh5mUJxhpMM",
        "outputId": "e9ed894d-c415-4ed1-fb39-ab935f265c56"
      },
      "execution_count": null,
      "outputs": [
        {
          "output_type": "stream",
          "name": "stdout",
          "text": [
            "Matrix C:\n",
            "1 2\n",
            "3 4\n",
            "5 6\n",
            "\n",
            "A * C:\n",
            "22 28\n",
            "49 64\n",
            "\n"
          ]
        }
      ]
    },
    {
      "cell_type": "code",
      "source": [
        "\n",
        "# Transpose\n",
        "print(\"Transpose of A:\")\n",
        "print(A.transpose())"
      ],
      "metadata": {
        "colab": {
          "base_uri": "https://localhost:8080/"
        },
        "id": "du-eQNNghuo1",
        "outputId": "03ed2202-a28c-4260-f702-aeaf077354e4"
      },
      "execution_count": null,
      "outputs": [
        {
          "output_type": "stream",
          "name": "stdout",
          "text": [
            "Transpose of A:\n",
            "1 4\n",
            "2 5\n",
            "3 6\n",
            "\n"
          ]
        }
      ]
    },
    {
      "cell_type": "markdown",
      "source": [
        "# **Conclusion:**\n",
        "\n",
        "The conclusion of the code demonstrates how to use the Matrix class to perform basic matrix operations such as addition, subtraction, scalar multiplication, matrix multiplication, and transpose."
      ],
      "metadata": {
        "id": "xNaTF_-Riq1_"
      }
    }
  ]
}