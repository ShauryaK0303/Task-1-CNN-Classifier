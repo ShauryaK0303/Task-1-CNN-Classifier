{
  "nbformat": 4,
  "nbformat_minor": 0,
  "metadata": {
    "colab": {
      "provenance": [],
      "include_colab_link": true
    },
    "kernelspec": {
      "name": "python3",
      "display_name": "Python 3"
    },
    "language_info": {
      "name": "python"
    }
  },
  "cells": [
    {
      "cell_type": "markdown",
      "metadata": {
        "id": "view-in-github",
        "colab_type": "text"
      },
      "source": [
        "<a href=\"https://colab.research.google.com/github/ShauryaK0303/Task_3_CNN_Classifier/blob/ann/ANN_LAB_7.ipynb\" target=\"_parent\"><img src=\"https://colab.research.google.com/assets/colab-badge.svg\" alt=\"Open In Colab\"/></a>"
      ]
    },
    {
      "cell_type": "markdown",
      "source": [
        "# **QUES7: Write a program for implementation of Perceptron Networks.**"
      ],
      "metadata": {
        "id": "SLRiGZWfsySg"
      }
    },
    {
      "cell_type": "code",
      "execution_count": null,
      "metadata": {
        "colab": {
          "base_uri": "https://localhost:8080/"
        },
        "id": "yVxH4Lc7st8G",
        "outputId": "c6e723ed-6976-43b7-e50c-68015f6a7a65"
      },
      "outputs": [
        {
          "output_type": "stream",
          "name": "stdout",
          "text": [
            "ANIRUDH SHUKLA 00619011921 AIDS B1 A\n"
          ]
        }
      ],
      "source": [
        "print(\"ANIRUDH SHUKLA 00619011921 AIDS B1 A\")"
      ]
    },
    {
      "cell_type": "code",
      "source": [
        "import numpy as np\n",
        "import matplotlib.pyplot as plt"
      ],
      "metadata": {
        "id": "GhPtYIEysxeR"
      },
      "execution_count": null,
      "outputs": []
    },
    {
      "cell_type": "code",
      "source": [
        "# Define learning rate\n",
        "learning_rate = 0.1"
      ],
      "metadata": {
        "id": "XQxvvDTiylMi"
      },
      "execution_count": null,
      "outputs": []
    },
    {
      "cell_type": "code",
      "source": [
        "# Define training data (for AND operation)\n",
        "X = np.array([[0, 0], [0, 1], [1, 0], [1, 1]])\n",
        "y = np.array([0, 0, 0, 1])"
      ],
      "metadata": {
        "id": "jDkkrKP6yoZO"
      },
      "execution_count": null,
      "outputs": []
    },
    {
      "cell_type": "code",
      "source": [
        "# Initialize random weights and bias\n",
        "weights = np.random.rand(X.shape[1])\n",
        "bias = 0\n",
        "\n",
        "epochs = 0\n",
        "while True:\n",
        "  all_correct = True\n",
        "  for i in range(len(X)):\n",
        "    x = X[i]\n",
        "    target = y[i]\n",
        "\n",
        "    # Calculate activation\n",
        "    activation = np.dot(x, weights) + bias\n",
        "\n",
        "    # Apply step function (perceptron output)\n",
        "    prediction = 1 if activation >= 0 else 0\n",
        "\n",
        "    # Update weights and bias based on error\n",
        "    error = target - prediction\n",
        "    if error != 0:\n",
        "      all_correct = False\n",
        "      weights += learning_rate * error * x\n",
        "      bias += learning_rate * error\n",
        "\n",
        "  epochs += 1\n",
        "  if all_correct:\n",
        "    break\n",
        "\n",
        "print(f\"Training completed in {epochs} epochs.\")"
      ],
      "metadata": {
        "colab": {
          "base_uri": "https://localhost:8080/"
        },
        "id": "YRsVHuDEyqhW",
        "outputId": "47ec4bca-ed16-4511-ba95-ea31a90b18a3"
      },
      "execution_count": null,
      "outputs": [
        {
          "output_type": "stream",
          "name": "stdout",
          "text": [
            "Training completed in 4 epochs.\n"
          ]
        }
      ]
    },
    {
      "cell_type": "code",
      "source": [
        "def plot_decision_boundary():\n",
        "\n",
        "  w1, w2 = weights  # Assuming two features\n",
        "  b = bias\n",
        "\n",
        "  # Calculate decision line equation (y = mx + c)\n",
        "  if w2 != 0:  # Avoid division by zero if w2 is close to zero\n",
        "    m = -w1 / w2\n",
        "    c = -b / w2\n",
        "  else:\n",
        "    m = np.inf  # Line will be vertical if w2 is zero\n",
        "    c = weights[0]  # Any y-value will work for vertical line\n",
        "\n",
        "  # Define line points for plotting based on margins\n",
        "  margin = 0.2\n",
        "  x_min = X[:, 0].min() - margin\n",
        "  x_max = X[:, 0].max() + margin\n",
        "  y_min = m * x_min + c  # Calculate y for min x-value\n",
        "  y_max = m * x_max + c  # Calculate y for max x-value\n",
        "\n",
        "  # Separate data points by class for plotting\n",
        "  class_0_data = X[y == 0]\n",
        "  class_1_data = X[y == 1]\n",
        "\n",
        "  # Plot the decision line\n",
        "  plt.plot([x_min, x_max], [y_min, y_max], 'g-', label='Decision Boundary (AND)')\n",
        "\n",
        "  # Plot class 0 (blue) and class 1 (red) data points separately\n",
        "  plt.scatter(class_0_data[:, 0], class_0_data[:, 1], c='blue', marker='o', label='Class 0')\n",
        "  plt.scatter(class_1_data[:, 0], class_1_data[:, 1], c='red', marker='x', label='Class 1')\n",
        "\n",
        "  plt.xlabel(\"Feature 1\")\n",
        "  plt.ylabel(\"Feature 2\")\n",
        "  plt.title(\"Perceptron\")\n",
        "  plt.xlim(x_min, x_max)\n",
        "  plt.ylim(X[:, 1].min() - margin, X[:, 1].max() + margin)  # Adjusted y-axis limits\n",
        "  plt.legend()\n",
        "  plt.show()"
      ],
      "metadata": {
        "id": "C1sovDAJywvW"
      },
      "execution_count": null,
      "outputs": []
    },
    {
      "cell_type": "code",
      "source": [
        "# Plot the decision boundary\n",
        "plot_decision_boundary()"
      ],
      "metadata": {
        "colab": {
          "base_uri": "https://localhost:8080/",
          "height": 472
        },
        "id": "FA3CM1xwBRgy",
        "outputId": "99f94dde-18d0-462f-ac2e-6dea61139d09"
      },
      "execution_count": null,
      "outputs": [
        {
          "output_type": "display_data",
          "data": {
            "text/plain": [
              "<Figure size 640x480 with 1 Axes>"
            ],
            "image/png": "[encoded data removed]"
          },
          "metadata": {}
        }
      ]
    },
    {
      "cell_type": "markdown",
      "source": [
        "#  **Conclusion:**\n",
        "  \n",
        "  The Perceptron successfully learned a linear decision boundary that separates the data points belonging to class 0 (both features False or 0) from the data point belonging to class 1 (both features True or 1)."
      ],
      "metadata": {
        "id": "Z12KjUA7H2He"
      }
    }
  ]
}